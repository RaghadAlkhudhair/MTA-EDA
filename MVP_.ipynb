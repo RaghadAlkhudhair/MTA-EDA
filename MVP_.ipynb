{
 "cells": [
  {
   "cell_type": "code",
   "execution_count": 63,
   "metadata": {},
   "outputs": [],
   "source": [
    "import pandas as pd\n",
    "from sqlalchemy import create_engine"
   ]
  },
  {
   "cell_type": "markdown",
   "metadata": {},
   "source": [
    "## connect to Database"
   ]
  },
  {
   "cell_type": "code",
   "execution_count": 64,
   "metadata": {},
   "outputs": [],
   "source": [
    "engine = create_engine(\"sqlite:///data/MTA_2019.db\")"
   ]
  },
  {
   "cell_type": "markdown",
   "metadata": {},
   "source": [
    "## Get data from MTA website"
   ]
  },
  {
   "cell_type": "code",
   "execution_count": null,
   "metadata": {},
   "outputs": [],
   "source": [
    "# Source: http://web.mta.info/developers/turnstile.html\n",
    "def get_data(week_nums):\n",
    "    url = \"http://web.mta.info/developers/data/nyct/turnstile/turnstile_{}.txt\"\n",
    "    dfs = []\n",
    "    for week_num in week_nums:\n",
    "        file_url = url.format(week_num)\n",
    "        dfs.append(pd.read_csv(file_url))\n",
    "    return pd.concat(dfs)\n",
    "        \n",
    "week_nums = [190928,190921,190914,190907,191005,191012,191019,191026,191102,191109,191116\n",
    "             ,191123,191130]\n",
    "turnstiles_df = get_data(week_nums)"
   ]
  },
  {
   "cell_type": "code",
   "execution_count": null,
   "metadata": {},
   "outputs": [],
   "source": [
    "#remove space from column name\n",
    "turnstiles_df.columns = [column.strip() for column in turnstiles_df.columns] \n",
    "\n",
    "#trasform date tp datetime datatype\n",
    "turnstiles_df[\"DATE_TIME\"] = pd.to_datetime(turnstiles_df.DATE + \" \" + turnstiles_df.TIME, \n",
    "                                            format=\"%m/%d/%Y %H:%M:%S\")"
   ]
  },
  {
   "cell_type": "code",
   "execution_count": null,
   "metadata": {},
   "outputs": [],
   "source": [
    "#see if there is duplicates\n",
    "turnstiles_df.sort_values([\"C/A\", \"UNIT\", \"SCP\", \"STATION\", \"DATE_TIME\"], \n",
    "                          ascending=False).head(20)"
   ]
  },
  {
   "cell_type": "code",
   "execution_count": null,
   "metadata": {},
   "outputs": [],
   "source": [
    "# delete rows if desc is not regular\n",
    "turnstiles_df=turnstiles_df.loc[turnstiles_df['DESC'] == \"REGULAR\"]"
   ]
  },
  {
   "cell_type": "code",
   "execution_count": null,
   "metadata": {},
   "outputs": [],
   "source": [
    "# Sanity Check to verify that \"C/A\", \"UNIT\", \"SCP\", \"STATION\", \"DATE_TIME\" is unique\n",
    "(turnstiles_df\n",
    " .groupby([\"C/A\", \"UNIT\", \"SCP\", \"STATION\", \n",
    "           \"DATE_TIME\",\"LINENAME\"])[[\"ENTRIES\"]].count()\n",
    " .reset_index()\n",
    " .sort_values(\"ENTRIES\", ascending=False)).head(10)"
   ]
  },
  {
   "cell_type": "code",
   "execution_count": null,
   "metadata": {},
   "outputs": [],
   "source": [
    "import numpy as np\n",
    "\n",
    "station_df =turnstiles_df.groupby([\"STATION\",\"DATE_TIME\"])[[\"ENTRIES\"]].sum()\n",
    "station_df[\"FOUR_HOURS_STATION_ENTRIES\"]=station_df.groupby([\"STATION\"]).ENTRIES.diff()\n",
    "\n",
    "station_df[\"FOUR_HOURS_STATION_ENTRIES\"]=(\n",
    "np.where((\n",
    "    (station_df.ENTRIES ==0) & (station_df.FOUR_HOURS_STATION_ENTRIES < 0)),0 # IN CASE OF COUNTER RESET RET0 \n",
    "    , \n",
    "    np.where((station_df.ENTRIES !=0) & (station_df.FOUR_HOURS_STATION_ENTRIES < 0)\n",
    "             , abs(station_df.FOUR_HOURS_STATION_ENTRIES), # IN CASE OF COUNTER REVERSE RETURN ABS(DAILY_ENTRIES)\n",
    "         station_df.FOUR_HOURS_STATION_ENTRIES) # IN CASE NORMAL COUNTER RETURN SAME VALUE AS DAILY_ENTRIES\n",
    "))\n"
   ]
  },
  {
   "cell_type": "code",
   "execution_count": null,
   "metadata": {},
   "outputs": [],
   "source": [
    "#drop rows having FOUR_HOURS_STATION_ENTRIES=Nan because it is the start of the chosen period\n",
    "station_df.dropna(inplace=True)\n",
    "station_df.reset_index(inplace=True)\n",
    "station_df[\"day_of_week\"]=station_df[\"DATE_TIME\"].dt.weekday\n",
    "station_df[\"hour\"]=station_df[\"DATE_TIME\"].dt.hour\n",
    "station_df[\"DATE\"]=station_df[\"DATE_TIME\"].dt.date"
   ]
  },
  {
   "cell_type": "code",
   "execution_count": null,
   "metadata": {},
   "outputs": [],
   "source": [
    "stations_daily=station_df.groupby(['STATION','DATE'])['FOUR_HOURS_STATION_ENTRIES'].sum().reset_index()"
   ]
  },
  {
   "cell_type": "code",
   "execution_count": null,
   "metadata": {},
   "outputs": [],
   "source": [
    "stations_daily[\"DATE\"] = pd.to_datetime(stations_daily.DATE)\n",
    "stations_daily[\"day_of_week\"]=stations_daily[\"DATE\"].dt.weekday\n",
    "stations_daily.sort_values(by='FOUR_HOURS_STATION_ENTRIES',ascending=False).head(10)"
   ]
  },
  {
   "cell_type": "markdown",
   "metadata": {},
   "source": [
    "## Station with highest average entries per day & Station with lowest average entries per day"
   ]
  },
  {
   "cell_type": "code",
   "execution_count": null,
   "metadata": {},
   "outputs": [],
   "source": [
    "temp_df=stations_daily.groupby(['STATION']).FOUR_HOURS_STATION_ENTRIES.mean().reset_index()\n",
    "temp_df.sort_values(by='FOUR_HOURS_STATION_ENTRIES',ascending=False).head(10)"
   ]
  },
  {
   "cell_type": "markdown",
   "metadata": {},
   "source": [
    "## What is the most crowded day for the stations?"
   ]
  },
  {
   "cell_type": "code",
   "execution_count": null,
   "metadata": {},
   "outputs": [],
   "source": [
    "stations_average_of_weekday=station_df.groupby(['STATION','day_of_week']).FOUR_HOURS_STATION_ENTRIES.mean()\n",
    "stations_average_of_weekday=stations_average_of_weekday.reset_index()\n",
    "\n",
    "stations_average_of_weekday.sort_values(by='FOUR_HOURS_STATION_ENTRIES',ascending=False)\n",
    "d={0:\"Monday\",1:\"Tuesday\",2:\"Wednesday\", 3:'Thursday',4:\"Friday\",5:\"Saturday\",6:\"Sunday\"}\n",
    "\n",
    "stations_average_of_weekday.day_of_week=stations_average_of_weekday.day_of_week.map(lambda x:d[x])"
   ]
  },
  {
   "cell_type": "code",
   "execution_count": null,
   "metadata": {},
   "outputs": [],
   "source": [
    "stations_average_of_weekday.rename(columns={'FOUR_HOURS_STATION_ENTRIES':'AVERAGE_ENTRIES'},inplace=True)"
   ]
  },
  {
   "cell_type": "code",
   "execution_count": null,
   "metadata": {},
   "outputs": [],
   "source": [
    "stations_average_of_weekday.sort_values(by='AVERAGE_ENTRIES',ascending=False).head(10)"
   ]
  },
  {
   "cell_type": "markdown",
   "metadata": {},
   "source": [
    "## Where are the most crowds on Sunday?"
   ]
  },
  {
   "cell_type": "code",
   "execution_count": null,
   "metadata": {},
   "outputs": [],
   "source": [
    "stations_on_Sunday=stations_average_of_weekday[stations_average_of_weekday['day_of_week']=='Sunday']\n",
    "stations_on_Sunday.sort_values(by='AVERAGE_ENTRIES',ascending=False).head(10)"
   ]
  },
  {
   "cell_type": "markdown",
   "metadata": {},
   "source": [
    "## On Monday?"
   ]
  },
  {
   "cell_type": "code",
   "execution_count": null,
   "metadata": {},
   "outputs": [],
   "source": [
    "stations_on_Monday=stations_average_of_weekday[stations_average_of_weekday['day_of_week']=='Monday']\n",
    "stations_on_Monday.sort_values(by='AVERAGE_ENTRIES',ascending=False).head(10)"
   ]
  },
  {
   "cell_type": "markdown",
   "metadata": {},
   "source": [
    "## On Tuesday?"
   ]
  },
  {
   "cell_type": "code",
   "execution_count": null,
   "metadata": {},
   "outputs": [],
   "source": [
    "stations_on_Tuesday=stations_average_of_weekday[stations_average_of_weekday['day_of_week']=='Tuesday']\n",
    "stations_on_Tuesday.sort_values(by='AVERAGE_ENTRIES',ascending=False).head(10)"
   ]
  },
  {
   "cell_type": "markdown",
   "metadata": {},
   "source": [
    "## On Wednesday?"
   ]
  },
  {
   "cell_type": "code",
   "execution_count": null,
   "metadata": {},
   "outputs": [],
   "source": [
    "stations_on_Wednesday=stations_average_of_weekday[stations_average_of_weekday['day_of_week']=='Wednesday']\n",
    "stations_on_Wednesday.sort_values(by='AVERAGE_ENTRIES',ascending=False).head(10)"
   ]
  },
  {
   "cell_type": "markdown",
   "metadata": {},
   "source": [
    "## On Thursady?"
   ]
  },
  {
   "cell_type": "code",
   "execution_count": null,
   "metadata": {},
   "outputs": [],
   "source": [
    "stations_on_Thursday=stations_average_of_weekday[stations_average_of_weekday['day_of_week']=='Thursday']\n",
    "stations_on_Thursday.sort_values(by='AVERAGE_ENTRIES',ascending=False).head(10)"
   ]
  },
  {
   "cell_type": "markdown",
   "metadata": {},
   "source": [
    "## On Friday?"
   ]
  },
  {
   "cell_type": "code",
   "execution_count": null,
   "metadata": {},
   "outputs": [],
   "source": [
    "stations_on_Friday=stations_average_of_weekday[stations_average_of_weekday['day_of_week']=='Friday']\n",
    "stations_on_Friday.sort_values(by='AVERAGE_ENTRIES',ascending=False).head(10)"
   ]
  },
  {
   "cell_type": "markdown",
   "metadata": {},
   "source": [
    "## On Saturday?"
   ]
  },
  {
   "cell_type": "code",
   "execution_count": null,
   "metadata": {},
   "outputs": [],
   "source": [
    "stations_on_Saturday=stations_average_of_weekday[stations_average_of_weekday['day_of_week']=='Saturday']\n",
    "stations_on_Saturday.sort_values(by='AVERAGE_ENTRIES',ascending=False).head(10)"
   ]
  },
  {
   "cell_type": "markdown",
   "metadata": {},
   "source": [
    "## What is the peak day of week for each station?"
   ]
  },
  {
   "cell_type": "code",
   "execution_count": null,
   "metadata": {},
   "outputs": [],
   "source": [
    "temp_df=stations_average_of_weekday.groupby(['STATION'])[['AVERAGE_ENTRIES']].max().reset_index()\n",
    "temp_df.sort_values(by='AVERAGE_ENTRIES',ascending=False).head(10)"
   ]
  },
  {
   "cell_type": "code",
   "execution_count": null,
   "metadata": {},
   "outputs": [],
   "source": [
    "merged_df=pd.merge(temp_df,stations_average_of_weekday,on=['STATION','AVERAGE_ENTRIES'])\n",
    "merged_df.sort_values(by='AVERAGE_ENTRIES',ascending=True).head(10)"
   ]
  },
  {
   "cell_type": "markdown",
   "metadata": {},
   "source": [
    "## Plot the peak day for the station and the number of entries in that peak day"
   ]
  },
  {
   "cell_type": "code",
   "execution_count": null,
   "metadata": {},
   "outputs": [],
   "source": [
    "import matplotlib.pyplot as plt\n",
    "import seaborn as sns\n",
    "\n",
    "sns.set_theme(style=\"whitegrid\")\n",
    "tips = sns.load_dataset(\"tips\")\n",
    "ax = sns.barplot(x=merged_df[\"day_of_week\"], y=merged_df[\"AVERAGE_ENTRIES\"], data=tips)"
   ]
  },
  {
   "cell_type": "code",
   "execution_count": null,
   "metadata": {},
   "outputs": [],
   "source": []
  }
 ],
 "metadata": {
  "kernelspec": {
   "display_name": "Python 3",
   "language": "python",
   "name": "python3"
  },
  "language_info": {
   "codemirror_mode": {
    "name": "ipython",
    "version": 3
   },
   "file_extension": ".py",
   "mimetype": "text/x-python",
   "name": "python",
   "nbconvert_exporter": "python",
   "pygments_lexer": "ipython3",
   "version": "3.7.3"
  }
 },
 "nbformat": 4,
 "nbformat_minor": 2
}
